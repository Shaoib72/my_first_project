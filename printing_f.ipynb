{
 "cells": [
  {
   "cell_type": "code",
   "execution_count": 1,
   "id": "b4b4c166-dc5e-42ea-adc5-19525094b6cc",
   "metadata": {},
   "outputs": [
    {
     "name": "stdout",
     "output_type": "stream",
     "text": [
      "FFFFFFFFFFFFFFFFFFFFFFFFFFFFFFFFFFFFFFFFFFFFFFFFFF\n",
      "FFFFFFFFFFFFFFFFFFFFFFFFFFFFFFFFFFFFFFFFFFFFFFFFFF\n",
      "FFFFFFFFFFFFFFFFFFFFFFFFFFFFFFFFFFFFFFFFFFFFFFFFFF\n",
      "FFFFFFFFFFFFFFFFFFFFFFFFFFFFFFFFFFFFFFFFFFFFFFFFFF\n",
      "FFFFFFFFFFFFFFFFFFFF\n",
      "FFFFFFFFFFFFFFFFFFFF\n",
      "FFFFFFFFFFFFFFFFFFFF\n",
      "FFFFFFFFFFFFFFFFFFFF\n",
      "FFFFFFFFFFFFFFFFFFFF\n",
      "FFFFFFFFFFFFFFFFFFFF\n",
      "FFFFFFFFFFFFFFFFFFFF\n",
      "FFFFFFFFFFFFFFFFFFFF\n",
      "FFFFFFFFFFFFFFFFFFFFFFFFFFFFFFFFFFFFFFFFFFFFFFFFFF\n",
      "FFFFFFFFFFFFFFFFFFFFFFFFFFFFFFFFFFFFFFFFFFFFFFFFFF\n",
      "FFFFFFFFFFFFFFFFFFFFFFFFFFFFFFFFFFFFFFFFFFFFFFFFFF\n",
      "FFFFFFFFFFFFFFFFFFFF\n",
      "FFFFFFFFFFFFFFFFFFFF\n",
      "FFFFFFFFFFFFFFFFFFFF\n",
      "FFFFFFFFFFFFFFFFFFFF\n",
      "FFFFFFFFFFFFFFFFFFFF\n",
      "FFFFFFFFFFFFFFFFFFFF\n",
      "FFFFFFFFFFFFFFFFFFFF\n",
      "FFFFFFFFFFFFFFFFFFFF\n",
      "FFFFFFFFFFFFFFFFFFFF\n"
     ]
    }
   ],
   "source": [
    "numbers=[50,50,50,50,20,20,20,20,20,20,20,20,50,50,50,20,20,20,20,20,20,20,20,20]\n",
    "for i in numbers:\n",
    "    output=''\n",
    "    for j in range(i):\n",
    "        output +='F'\n",
    "    print(output)"
   ]
  },
  {
   "cell_type": "code",
   "execution_count": null,
   "id": "4ab38b1f-5241-49a2-85db-59f94a4a1162",
   "metadata": {},
   "outputs": [],
   "source": []
  }
 ],
 "metadata": {
  "kernelspec": {
   "display_name": "Python 3 (ipykernel)",
   "language": "python",
   "name": "python3"
  },
  "language_info": {
   "codemirror_mode": {
    "name": "ipython",
    "version": 3
   },
   "file_extension": ".py",
   "mimetype": "text/x-python",
   "name": "python",
   "nbconvert_exporter": "python",
   "pygments_lexer": "ipython3",
   "version": "3.11.5"
  }
 },
 "nbformat": 4,
 "nbformat_minor": 5
}
